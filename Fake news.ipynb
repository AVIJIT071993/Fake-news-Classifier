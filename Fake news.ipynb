{
 "cells": [
  {
   "cell_type": "markdown",
   "metadata": {},
   "source": [
    "# FAKE NEWS CLASSIFIER"
   ]
  },
  {
   "cell_type": "markdown",
   "metadata": {},
   "source": [
    "Import All the basic modules:"
   ]
  },
  {
   "cell_type": "code",
   "execution_count": 1,
   "metadata": {},
   "outputs": [],
   "source": [
    "import numpy as np\n",
    "import pandas as pd\n",
    "import seaborn as sns\n",
    "from sklearn.model_selection import train_test_split\n",
    "from sklearn.feature_extraction.text import TfidfVectorizer\n",
    "from sklearn.linear_model import PassiveAggressiveClassifier\n",
    "from sklearn.naive_bayes import MultinomialNB\n",
    "from sklearn.linear_model import LogisticRegression\n",
    "from sklearn.svm import SVC\n",
    "from sklearn.ensemble import RandomForestClassifier\n",
    "from sklearn.metrics import accuracy_score, confusion_matrix\n",
    "from statistics import mode"
   ]
  },
  {
   "cell_type": "markdown",
   "metadata": {},
   "source": [
    "Import the news csv file which contains the train and test data:"
   ]
  },
  {
   "cell_type": "code",
   "execution_count": 2,
   "metadata": {},
   "outputs": [],
   "source": [
    "df=pd.read_csv(\"news.csv\")"
   ]
  },
  {
   "cell_type": "code",
   "execution_count": 3,
   "metadata": {},
   "outputs": [
    {
     "data": {
      "text/html": [
       "<div>\n",
       "<style scoped>\n",
       "    .dataframe tbody tr th:only-of-type {\n",
       "        vertical-align: middle;\n",
       "    }\n",
       "\n",
       "    .dataframe tbody tr th {\n",
       "        vertical-align: top;\n",
       "    }\n",
       "\n",
       "    .dataframe thead th {\n",
       "        text-align: right;\n",
       "    }\n",
       "</style>\n",
       "<table border=\"1\" class=\"dataframe\">\n",
       "  <thead>\n",
       "    <tr style=\"text-align: right;\">\n",
       "      <th></th>\n",
       "      <th>Unnamed: 0</th>\n",
       "      <th>title</th>\n",
       "      <th>text</th>\n",
       "      <th>label</th>\n",
       "    </tr>\n",
       "  </thead>\n",
       "  <tbody>\n",
       "    <tr>\n",
       "      <th>0</th>\n",
       "      <td>8476</td>\n",
       "      <td>You Can Smell Hillary’s Fear</td>\n",
       "      <td>Daniel Greenfield, a Shillman Journalism Fello...</td>\n",
       "      <td>FAKE</td>\n",
       "    </tr>\n",
       "    <tr>\n",
       "      <th>1</th>\n",
       "      <td>10294</td>\n",
       "      <td>Watch The Exact Moment Paul Ryan Committed Pol...</td>\n",
       "      <td>Google Pinterest Digg Linkedin Reddit Stumbleu...</td>\n",
       "      <td>FAKE</td>\n",
       "    </tr>\n",
       "    <tr>\n",
       "      <th>2</th>\n",
       "      <td>3608</td>\n",
       "      <td>Kerry to go to Paris in gesture of sympathy</td>\n",
       "      <td>U.S. Secretary of State John F. Kerry said Mon...</td>\n",
       "      <td>REAL</td>\n",
       "    </tr>\n",
       "    <tr>\n",
       "      <th>3</th>\n",
       "      <td>10142</td>\n",
       "      <td>Bernie supporters on Twitter erupt in anger ag...</td>\n",
       "      <td>— Kaydee King (@KaydeeKing) November 9, 2016 T...</td>\n",
       "      <td>FAKE</td>\n",
       "    </tr>\n",
       "    <tr>\n",
       "      <th>4</th>\n",
       "      <td>875</td>\n",
       "      <td>The Battle of New York: Why This Primary Matters</td>\n",
       "      <td>It's primary day in New York and front-runners...</td>\n",
       "      <td>REAL</td>\n",
       "    </tr>\n",
       "  </tbody>\n",
       "</table>\n",
       "</div>"
      ],
      "text/plain": [
       "   Unnamed: 0                                              title  \\\n",
       "0        8476                       You Can Smell Hillary’s Fear   \n",
       "1       10294  Watch The Exact Moment Paul Ryan Committed Pol...   \n",
       "2        3608        Kerry to go to Paris in gesture of sympathy   \n",
       "3       10142  Bernie supporters on Twitter erupt in anger ag...   \n",
       "4         875   The Battle of New York: Why This Primary Matters   \n",
       "\n",
       "                                                text label  \n",
       "0  Daniel Greenfield, a Shillman Journalism Fello...  FAKE  \n",
       "1  Google Pinterest Digg Linkedin Reddit Stumbleu...  FAKE  \n",
       "2  U.S. Secretary of State John F. Kerry said Mon...  REAL  \n",
       "3  — Kaydee King (@KaydeeKing) November 9, 2016 T...  FAKE  \n",
       "4  It's primary day in New York and front-runners...  REAL  "
      ]
     },
     "execution_count": 3,
     "metadata": {},
     "output_type": "execute_result"
    }
   ],
   "source": [
    "df.head()"
   ]
  },
  {
   "cell_type": "code",
   "execution_count": 4,
   "metadata": {},
   "outputs": [
    {
     "data": {
      "text/plain": [
       "(6335, 4)"
      ]
     },
     "execution_count": 4,
     "metadata": {},
     "output_type": "execute_result"
    }
   ],
   "source": [
    "df.shape"
   ]
  },
  {
   "cell_type": "code",
   "execution_count": 5,
   "metadata": {
    "scrolled": true
   },
   "outputs": [
    {
     "data": {
      "text/plain": [
       "<matplotlib.axes._subplots.AxesSubplot at 0x1b4496f2f48>"
      ]
     },
     "execution_count": 5,
     "metadata": {},
     "output_type": "execute_result"
    },
    {
     "data": {
      "image/png": "[encoded data removed]",
      "text/plain": [
       "<Figure size 432x288 with 1 Axes>"
      ]
     },
     "metadata": {
      "needs_background": "light"
     },
     "output_type": "display_data"
    }
   ],
   "source": [
    "sns.countplot(x=\"label\", data=df)#plot to check the no.of Fake and real news count"
   ]
  },
  {
   "cell_type": "markdown",
   "metadata": {},
   "source": [
    "Import train, test, split and preprocessing modules: "
   ]
  },
  {
   "cell_type": "code",
   "execution_count": 6,
   "metadata": {},
   "outputs": [],
   "source": [
    "y=df.label\n",
    "x=df.text"
   ]
  },
  {
   "cell_type": "code",
   "execution_count": 7,
   "metadata": {},
   "outputs": [
    {
     "data": {
      "text/plain": [
       "0    Daniel Greenfield, a Shillman Journalism Fello...\n",
       "1    Google Pinterest Digg Linkedin Reddit Stumbleu...\n",
       "2    U.S. Secretary of State John F. Kerry said Mon...\n",
       "3    — Kaydee King (@KaydeeKing) November 9, 2016 T...\n",
       "4    It's primary day in New York and front-runners...\n",
       "Name: text, dtype: object"
      ]
     },
     "execution_count": 7,
     "metadata": {},
     "output_type": "execute_result"
    }
   ],
   "source": [
    "x.head()"
   ]
  },
  {
   "cell_type": "code",
   "execution_count": 8,
   "metadata": {},
   "outputs": [
    {
     "data": {
      "text/plain": [
       "0    FAKE\n",
       "1    FAKE\n",
       "2    REAL\n",
       "3    FAKE\n",
       "4    REAL\n",
       "Name: label, dtype: object"
      ]
     },
     "execution_count": 8,
     "metadata": {},
     "output_type": "execute_result"
    }
   ],
   "source": [
    "y.head()"
   ]
  },
  {
   "cell_type": "code",
   "execution_count": 9,
   "metadata": {},
   "outputs": [
    {
     "data": {
      "text/plain": [
       "(6335,)"
      ]
     },
     "execution_count": 9,
     "metadata": {},
     "output_type": "execute_result"
    }
   ],
   "source": [
    "y.shape"
   ]
  },
  {
   "cell_type": "code",
   "execution_count": 10,
   "metadata": {},
   "outputs": [],
   "source": [
    "x_train, x_test, y_train, y_test=train_test_split(x, y, test_size=0.3, random_state=101)"
   ]
  },
  {
   "cell_type": "code",
   "execution_count": 11,
   "metadata": {},
   "outputs": [],
   "source": [
    "tfidf_vectorizer=TfidfVectorizer(stop_words='english', max_df=0.7)"
   ]
  },
  {
   "cell_type": "code",
   "execution_count": 12,
   "metadata": {},
   "outputs": [],
   "source": [
    "tf_train=tfidf_vectorizer.fit_transform(x_train) \n",
    "tf_test=tfidf_vectorizer.transform(x_test)"
   ]
  },
  {
   "cell_type": "code",
   "execution_count": 13,
   "metadata": {},
   "outputs": [
    {
     "data": {
      "text/plain": [
       "(4434, 57938)"
      ]
     },
     "execution_count": 13,
     "metadata": {},
     "output_type": "execute_result"
    }
   ],
   "source": [
    "tf_train.shape"
   ]
  },
  {
   "cell_type": "code",
   "execution_count": 14,
   "metadata": {},
   "outputs": [
    {
     "data": {
      "text/plain": [
       "(1901, 57938)"
      ]
     },
     "execution_count": 14,
     "metadata": {},
     "output_type": "execute_result"
    }
   ],
   "source": [
    "tf_test.shape"
   ]
  },
  {
   "cell_type": "code",
   "execution_count": 15,
   "metadata": {},
   "outputs": [],
   "source": [
    "def predictions(model):\n",
    "    y_pred=model.predict(tf_test)\n",
    "    score=accuracy_score(y_test,y_pred)\n",
    "    print(\"Accuracy: {}%\".format(round(score*100,2)))\n",
    "    print(confusion_matrix(y_test,y_pred, labels=['FAKE','REAL']))"
   ]
  },
  {
   "cell_type": "markdown",
   "metadata": {},
   "source": [
    "PassiveAggressiveClassifier for analyzing the data:"
   ]
  },
  {
   "cell_type": "code",
   "execution_count": 16,
   "metadata": {},
   "outputs": [
    {
     "data": {
      "text/plain": [
       "PassiveAggressiveClassifier(C=1.0, average=False, class_weight=None,\n",
       "                            early_stopping=False, fit_intercept=True,\n",
       "                            loss='hinge', max_iter=50, n_iter_no_change=5,\n",
       "                            n_jobs=None, random_state=None, shuffle=True,\n",
       "                            tol=0.001, validation_fraction=0.1, verbose=0,\n",
       "                            warm_start=False)"
      ]
     },
     "execution_count": 16,
     "metadata": {},
     "output_type": "execute_result"
    }
   ],
   "source": [
    "pac=PassiveAggressiveClassifier(max_iter=50)\n",
    "pac.fit(tf_train,y_train)"
   ]
  },
  {
   "cell_type": "code",
   "execution_count": 17,
   "metadata": {},
   "outputs": [
    {
     "name": "stdout",
     "output_type": "stream",
     "text": [
      "Accuracy: 93.69%\n",
      "[[894  49]\n",
      " [ 71 887]]\n"
     ]
    }
   ],
   "source": [
    "predictions(pac)"
   ]
  },
  {
   "cell_type": "code",
   "execution_count": 18,
   "metadata": {},
   "outputs": [
    {
     "name": "stderr",
     "output_type": "stream",
     "text": [
      "C:\\Users\\bandu\\Anaconda3\\envs\\machine_learning\\lib\\site-packages\\sklearn\\linear_model\\logistic.py:432: FutureWarning: Default solver will be changed to 'lbfgs' in 0.22. Specify a solver to silence this warning.\n",
      "  FutureWarning)\n"
     ]
    },
    {
     "data": {
      "text/plain": [
       "LogisticRegression(C=1.0, class_weight=None, dual=False, fit_intercept=True,\n",
       "                   intercept_scaling=1, l1_ratio=None, max_iter=100,\n",
       "                   multi_class='warn', n_jobs=None, penalty='l2',\n",
       "                   random_state=None, solver='warn', tol=0.0001, verbose=0,\n",
       "                   warm_start=False)"
      ]
     },
     "execution_count": 18,
     "metadata": {},
     "output_type": "execute_result"
    }
   ],
   "source": [
    "lr = LogisticRegression()\n",
    "lr.fit(tf_train,y_train)"
   ]
  },
  {
   "cell_type": "code",
   "execution_count": 19,
   "metadata": {},
   "outputs": [
    {
     "name": "stdout",
     "output_type": "stream",
     "text": [
      "Accuracy: 91.32%\n",
      "[[894  49]\n",
      " [116 842]]\n"
     ]
    }
   ],
   "source": [
    "predictions(lr)"
   ]
  },
  {
   "cell_type": "code",
   "execution_count": 20,
   "metadata": {},
   "outputs": [
    {
     "data": {
      "text/plain": [
       "SVC(C=1.0, cache_size=200, class_weight=None, coef0=0.0,\n",
       "    decision_function_shape='ovr', degree=3, gamma='auto_deprecated',\n",
       "    kernel='linear', max_iter=-1, probability=False, random_state=None,\n",
       "    shrinking=True, tol=0.001, verbose=False)"
      ]
     },
     "execution_count": 20,
     "metadata": {},
     "output_type": "execute_result"
    }
   ],
   "source": [
    "svc = SVC(kernel='linear')\n",
    "svc.fit(tf_train,y_train)"
   ]
  },
  {
   "cell_type": "code",
   "execution_count": 21,
   "metadata": {},
   "outputs": [
    {
     "name": "stdout",
     "output_type": "stream",
     "text": [
      "Accuracy: 93.11%\n",
      "[[899  44]\n",
      " [ 87 871]]\n"
     ]
    }
   ],
   "source": [
    "predictions(svc)"
   ]
  },
  {
   "cell_type": "code",
   "execution_count": 22,
   "metadata": {},
   "outputs": [
    {
     "name": "stderr",
     "output_type": "stream",
     "text": [
      "C:\\Users\\bandu\\Anaconda3\\envs\\machine_learning\\lib\\site-packages\\sklearn\\ensemble\\forest.py:245: FutureWarning: The default value of n_estimators will change from 10 in version 0.20 to 100 in 0.22.\n",
      "  \"10 in version 0.20 to 100 in 0.22.\", FutureWarning)\n"
     ]
    },
    {
     "data": {
      "text/plain": [
       "RandomForestClassifier(bootstrap=True, class_weight=None, criterion='gini',\n",
       "                       max_depth=None, max_features='auto', max_leaf_nodes=None,\n",
       "                       min_impurity_decrease=0.0, min_impurity_split=None,\n",
       "                       min_samples_leaf=1, min_samples_split=2,\n",
       "                       min_weight_fraction_leaf=0.0, n_estimators=10,\n",
       "                       n_jobs=None, oob_score=False, random_state=None,\n",
       "                       verbose=0, warm_start=False)"
      ]
     },
     "execution_count": 22,
     "metadata": {},
     "output_type": "execute_result"
    }
   ],
   "source": [
    "rfc = RandomForestClassifier()\n",
    "rfc.fit(tf_train,y_train)"
   ]
  },
  {
   "cell_type": "code",
   "execution_count": 23,
   "metadata": {},
   "outputs": [
    {
     "name": "stdout",
     "output_type": "stream",
     "text": [
      "Accuracy: 83.85%\n",
      "[[831 112]\n",
      " [195 763]]\n"
     ]
    }
   ],
   "source": [
    "predictions(rfc)"
   ]
  },
  {
   "cell_type": "code",
   "execution_count": 24,
   "metadata": {},
   "outputs": [
    {
     "data": {
      "text/plain": [
       "MultinomialNB(alpha=1.0, class_prior=None, fit_prior=True)"
      ]
     },
     "execution_count": 24,
     "metadata": {},
     "output_type": "execute_result"
    }
   ],
   "source": [
    "mnb = MultinomialNB()\n",
    "mnb.fit(tf_train,y_train)"
   ]
  },
  {
   "cell_type": "code",
   "execution_count": 25,
   "metadata": {},
   "outputs": [
    {
     "name": "stdout",
     "output_type": "stream",
     "text": [
      "Accuracy: 84.8%\n",
      "[[673 270]\n",
      " [ 19 939]]\n"
     ]
    }
   ],
   "source": [
    "predictions(mnb)"
   ]
  },
  {
   "cell_type": "markdown",
   "metadata": {},
   "source": [
    "# Code to scrap data from inshorts:"
   ]
  },
  {
   "cell_type": "code",
   "execution_count": 26,
   "metadata": {},
   "outputs": [
    {
     "name": "stdout",
     "output_type": "stream",
     "text": [
      "[['Title', 'Text'], ['Video of Kangana Ranaut from March saying she used to be a drug addict surfaces', 'A video of Kangana Ranaut claiming that she used to be a drug addict has gone viral. The video was posted on Kangana\\'s Instagram account in March from Manali in Himachal Pradesh. \"Soon as I ran away from my house, I became a film star in a couple of years and a drug addict,\" she says in the video.'], [\"NCB makes multiple arrests from Mumbai, Goa in drug angle in Sushant's death case\", \"The Narcotics Control Bureau (NCB) on Saturday made multiple arrests from Mumbai and Goa in connection with drugs case related to Sushant Singh Rajput's death case. NCB Mumbai arrested alleged drug dealers Karamjeet Singh Anand, Dywan Anthony Fernandes, Ankush Arenja and several others, seizing ganja and charas from them. Meanwhile, NCB Goa arrested a man named Chris Costa.\"], ['Hollywood actress Felicity Jones secretly welcomes first baby', 'Hollywood actress Felicity Jones has secretly given birth to her first child with husband Charles Guard. The 36-year-old Star Wars actress was pictured on Friday for the first time since welcoming her baby as she took the baby out for a stroll in London. Felicity dated Guard for two years before he proposed in May 2017.'], [\"Cong holds rally to protest 'conspiracy' against 'Bengal's daughter' Rhea\", 'Congress activists protested in Kolkata today against alleged victimisation of actor Rhea Chakraborty who was arrested in a drugs case linked to actor Sushant Singh Rajput\\'s death. Sharing pictures from the protest on Twitter, Congress\\' West Bengal unit said, \"Political conspiracy and vindictive behaviour against Rhea Chakraborty, the daughter of Bengal, will not be tolerated.\"'], ['Iran executes champion wrestler Navid Afkari despite global campaign', 'Iran has executed champion wrestler Navid Afkari, who was convicted of murdering a security guard during anti-regime protests in 2018. This comes despite an international campaign to spare his life. \"The horrific act of executing an athlete can only be regarded as a repudiation of the humanitarian values that underpin sport,\" World Players Association director Brendan Schwab, had said.'], ['Trent Boult breaks the stump into 2 pieces during training, MI share pic', 'Mumbai Indians took to Twitter to share a picture of a stump broken into two pieces and asked followers to guess who broke the stump. Mumbai Indians then shared a video showing Trent Boult breaking the middle stump into two pieces during practice. \"Clean Boult! Trent has arrived,\" Mumbai Indians captioned the video.'], ['Conor McGregor arrested on suspicion of indecent exposure, attempted sexual assault', 'Irish mixed martial artist Conor McGregor has been arrested in Corsica on suspicion of attempted sexual assault and indecent exposure. \"Following a complaint filed on September 10 denouncing acts that could be described as attempted sexual assault and sexual exhibition...Mr Conor Anthony McGregor was the subject of a hearing by gendarmerie services,\" wrote the prosecutor’s office in a statement.'], ['IPL gets its first USA player as Ali Khan replaces Harry Gurney in KKR', 'Kolkata Knight Riders (KKR) have roped in USA fast bowler Ali Khan as a replacement for pacer Harry Gurney. With this, the 29-year-old has become the first player from the USA to join the IPL. The Pakistan-born fast bowler was a part of Trinbago Knight Riders, who won the CPL 2020. He took eight wickets in the tournament.'], [\"If Maha CM can't look after law & order, he should resign: Ex-Navy officer\", 'Retired Naval officer Madan Sharma, who was assaulted allegedly by Shiv Sena members on Friday after he shared a cartoon mocking Maharashtra CM Uddhav Thackeray, said, \"If you (Thackeray) can\\'t look after law and order, then resign.\" \"All workers...of Thackeray ji should seek apology from the entire nation, that such incident doesn\\'t take place again with anyone else,\" he added.'], ['Ex-Union Minister Raghuvansh Singh critically ill, put on ventilator', 'Former Union Minister Raghuvansh Prasad Singh has fallen critically ill and put on a ventilator, said a close aide of his on Saturday. Singh has been admitted to AIIMS in Delhi for about a week, after he developed post-COVID complications. He had resigned from the primary membership of Rashtriya Janata Dal (RJD) on Thursday.'], ['Prashant Bhushan moves SC for right to appeal in contempt case', 'Advocate Prashant Bhushan has moved the Supreme Court seeking a declaration that a person convicted by the SC in a criminal contempt case has the right to intra-court appeal. He argued that there are chances of \"arbitrary, vengeful and high-handed decisions\" as the court is the aggrieved party. Bhushan was convicted by the SC in a contempt case in August. '], [\"Relatives enter KEM Hospital's emergency ward, abuse doctor after patient dies\", 'Relatives of a patient entered the Emergency ward of the KEM Hospital and started abusing the resident doctor after they were informed that the patient has died. The Maharashtra Association of Resident Doctors (MARD) has demanded strict action against the relatives over the September 8 incident. The relatives allegedly threatened to kill the resident doctor.'], ['Astronaut shares pic of 9/11 attack as seen from space to mark 19th anniversary', 'NASA astronaut Jonny Kim took to Twitter to share a picture of the 9/11 terror attack in the US as captured from the International Space Station by then-NASA astronaut Frank Culbertson to mark the attack\\'s 19th anniversary. \"Never forgotten. We (honour) and remember the nearly 3,000 lives lost and the heroes that gave everything in service,\" he tweeted.'], ['Hurricane-force winds overturn 45 trucks in US, video surfaces', 'Hurricane-force winds overturned as many as 45 semi-trucks on their sides on a highway in the US state of Utah earlier this week. Winds in excess of 145 kmph uprooted trees and damaged property around Salt Lake City. Farmington City in Utah declared a state of emergency on Wednesday after the winds killed at least one person.'], [\"Twitter flags Trump's post that encouraged people to vote twice\", 'Twitter flagged a tweet by US President Donald Trump that encouraged people to try to vote twice. \"To make sure your Ballot COUNTS, sign & send it in EARLY. When Polls open, go to your Polling Place to see if it was COUNTED. IF NOT, VOTE!\" Trump wrote. Twitter said the tweet violated its rules about civic and election integrity.'], ['Scientists use AI to predict how people would react to a drug', 'Scientists claim to have developed an algorithm to predict the side effects of drugs before they hit the market. The algorithm uses the same principle by which movies are recommended to users. It will help determine how people will react to a drug and the percentage of people who will have side effects after the first stages of human trials.'], [\"US-based rocket startup Astra's 1st orbital test launch fails\", 'US-based rocket startup Astra\\'s first orbital test launch failed during first-stage engine burn. The mission ended early because of unwanted back-and-forth wobbling in the rocket which caused an engine shutdown by the vehicle\\'s automated safety system. However, Astra added the rocket \"performed very well\". The startup said it wasn\\'t expecting to reach the orbit on this flight. '], ['PE, VC funds investments more than halve to $1.9B in August: Report', 'Investments by venture capitals and private equity funds more than halved to $1.9 billion in August amid absence of large deals, consultancy firm EY reported. The investments stood at $4.3 billion in August 2019 and $4.1 billion in July 2020. The financial services sector saw the maximum funding with investments worth $1.1 billion in August.'], ['Mumbai-based startup mCaffeine raises over ₹22 crore', 'Mumbai-based personal care brand mCaffeine has raised over ₹22 crore from multiple investors. Last year, the startup had raised nearly ₹14 crore in Series A funding round from RPSG Ventures, Telama Investments and others. Founded by Vikas Lachhwani and Tarun Sharma, mCaffeine deals in caffeine-infused products including shampoo, face wash, body lotions, shower gels and creams.'], ['Carbon-rich exoplanets might be made of diamonds: Study', 'Researchers have said carbon-rich exoplanets, with the presence of water, could be made of diamonds and silica. Researchers tried to mimic the interior of carbide exoplanets using high heat and high pressure. However, carbon-rich planets are too hard to be geologically active which may make their atmospheric composition uninhabitable, the study said.']]\n"
     ]
    }
   ],
   "source": [
    "from urllib.request import urlopen as req\n",
    "from bs4 import BeautifulSoup as soup\n",
    "import csv\n",
    "my_url=\"https://inshorts.com/en/read\"\n",
    "\n",
    "uclient = req(my_url)\n",
    "page_html = uclient.read()\n",
    "uclient.close()\n",
    "page_soup = soup(page_html, \"html.parser\")\n",
    "containers = page_soup.findAll(\"div\", {\"class\" : \"card-stack\"})\n",
    "\n",
    "filename = \"news_scrap.csv\"\n",
    "f = open(filename, \"w\", encoding=\"utf-8\")\n",
    "\n",
    "#headers = \"title,text\\n\"\n",
    "#f.write(headers)\n",
    "\n",
    "row_list = [\n",
    "    [\"Title\", \"Text\"],]\n",
    "\n",
    "for container in containers:\n",
    "    for i in range(20):\n",
    "    \n",
    "        title_container = container.find_all(\"span\", {\"itemprop\": \"headline\"})\n",
    "        title = title_container[i].text\n",
    "\n",
    "        article_container = container.find_all(\"div\", {\"itemprop\": \"articleBody\"})\n",
    "        article = article_container[i].text\n",
    "        row_list.append([title, article])\n",
    "\n",
    "print(row_list)\n",
    "f.close()\n",
    "\n",
    "with open('inshorts.csv', 'w', newline='',encoding='utf-8') as file:\n",
    "    writer = csv.writer(file, quoting=csv.QUOTE_NONNUMERIC)\n",
    "    writer.writerows(row_list)"
   ]
  },
  {
   "cell_type": "markdown",
   "metadata": {},
   "source": [
    "Load the data to be predicted:"
   ]
  },
  {
   "cell_type": "code",
   "execution_count": 27,
   "metadata": {},
   "outputs": [],
   "source": [
    "pred_data=pd.read_csv(\"inshorts.csv\")"
   ]
  },
  {
   "cell_type": "code",
   "execution_count": 28,
   "metadata": {},
   "outputs": [],
   "source": [
    "pred_text=pred_data.Text\n",
    "pred_title=pred_data.Title"
   ]
  },
  {
   "cell_type": "code",
   "execution_count": 29,
   "metadata": {},
   "outputs": [],
   "source": [
    "pred_text_tranf=tfidf_vectorizer.transform(pred_text) "
   ]
  },
  {
   "cell_type": "code",
   "execution_count": 30,
   "metadata": {},
   "outputs": [
    {
     "data": {
      "text/plain": [
       "(20, 57938)"
      ]
     },
     "execution_count": 30,
     "metadata": {},
     "output_type": "execute_result"
    }
   ],
   "source": [
    "pred_text_tranf.shape"
   ]
  },
  {
   "cell_type": "markdown",
   "metadata": {},
   "source": [
    "# Predicted data after analyzing:"
   ]
  },
  {
   "cell_type": "code",
   "execution_count": 31,
   "metadata": {},
   "outputs": [],
   "source": [
    "y_pred1=pac.predict(pred_text_tranf)\n",
    "y_pred2=mnb.predict(pred_text_tranf)\n",
    "y_pred3=lr.predict(pred_text_tranf)\n",
    "y_pred4=svc.predict(pred_text_tranf)\n",
    "y_pred5=rfc.predict(pred_text_tranf)"
   ]
  },
  {
   "cell_type": "code",
   "execution_count": 32,
   "metadata": {},
   "outputs": [],
   "source": [
    "y_pred=[]\n",
    "for i in range(pred_text_tranf.shape[0]):\n",
    "    predictions= [y_pred1[i], y_pred2[i], y_pred3[i], y_pred4[i], y_pred5[i]]\n",
    "    pred=mode(predictions)\n",
    "    y_pred.append(pred)"
   ]
  },
  {
   "cell_type": "code",
   "execution_count": 33,
   "metadata": {},
   "outputs": [
    {
     "name": "stdout",
     "output_type": "stream",
     "text": [
      "('Video of Kangana Ranaut from March saying she used to be a drug addict surfaces', 'FAKE')\n",
      "(\"NCB makes multiple arrests from Mumbai, Goa in drug angle in Sushant's death case\", 'FAKE')\n",
      "('Hollywood actress Felicity Jones secretly welcomes first baby', 'FAKE')\n",
      "(\"Cong holds rally to protest 'conspiracy' against 'Bengal's daughter' Rhea\", 'FAKE')\n",
      "('Iran executes champion wrestler Navid Afkari despite global campaign', 'FAKE')\n",
      "('Trent Boult breaks the stump into 2 pieces during training, MI share pic', 'FAKE')\n",
      "('Conor McGregor arrested on suspicion of indecent exposure, attempted sexual assault', 'FAKE')\n",
      "('IPL gets its first USA player as Ali Khan replaces Harry Gurney in KKR', 'FAKE')\n",
      "(\"If Maha CM can't look after law & order, he should resign: Ex-Navy officer\", 'FAKE')\n",
      "('Ex-Union Minister Raghuvansh Singh critically ill, put on ventilator', 'REAL')\n",
      "('Prashant Bhushan moves SC for right to appeal in contempt case', 'FAKE')\n",
      "(\"Relatives enter KEM Hospital's emergency ward, abuse doctor after patient dies\", 'FAKE')\n",
      "('Astronaut shares pic of 9/11 attack as seen from space to mark 19th anniversary', 'FAKE')\n",
      "('Hurricane-force winds overturn 45 trucks in US, video surfaces', 'FAKE')\n",
      "(\"Twitter flags Trump's post that encouraged people to vote twice\", 'FAKE')\n",
      "('Scientists use AI to predict how people would react to a drug', 'FAKE')\n",
      "(\"US-based rocket startup Astra's 1st orbital test launch fails\", 'FAKE')\n",
      "('PE, VC funds investments more than halve to $1.9B in August: Report', 'FAKE')\n",
      "('Mumbai-based startup mCaffeine raises over ₹22 crore', 'FAKE')\n",
      "('Carbon-rich exoplanets might be made of diamonds: Study', 'FAKE')\n"
     ]
    }
   ],
   "source": [
    "for i in zip(pred_title,y_pred):\n",
    "    print(i)"
   ]
  }
 ],
 "metadata": {
  "kernelspec": {
   "display_name": "Python 3",
   "language": "python",
   "name": "python3"
  },
  "language_info": {
   "codemirror_mode": {
    "name": "ipython",
    "version": 3
   },
   "file_extension": ".py",
   "mimetype": "text/x-python",
   "name": "python",
   "nbconvert_exporter": "python",
   "pygments_lexer": "ipython3",
   "version": "3.7.6"
  }
 },
 "nbformat": 4,
 "nbformat_minor": 2
}
