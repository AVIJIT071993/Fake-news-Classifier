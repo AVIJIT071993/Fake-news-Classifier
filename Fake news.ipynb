{
 "cells": [
  {
   "cell_type": "markdown",
   "metadata": {},
   "source": [
    "# FAKE NEWS CLASSIFIER"
   ]
  },
  {
   "cell_type": "markdown",
   "metadata": {},
   "source": [
    "Import All the basic modules:"
   ]
  },
  {
   "cell_type": "code",
   "execution_count": 1,
   "metadata": {},
   "outputs": [],
   "source": [
    "import numpy as np\n",
    "import pandas as pd\n",
    "import seaborn as sns"
   ]
  },
  {
   "cell_type": "markdown",
   "metadata": {},
   "source": [
    "Import the news csv file which contains the train and test data:"
   ]
  },
  {
   "cell_type": "code",
   "execution_count": 2,
   "metadata": {},
   "outputs": [],
   "source": [
    "df=pd.read_csv(\"news.csv\")"
   ]
  },
  {
   "cell_type": "code",
   "execution_count": 3,
   "metadata": {},
   "outputs": [
    {
     "data": {
      "text/html": [
       "<div>\n",
       "<style scoped>\n",
       "    .dataframe tbody tr th:only-of-type {\n",
       "        vertical-align: middle;\n",
       "    }\n",
       "\n",
       "    .dataframe tbody tr th {\n",
       "        vertical-align: top;\n",
       "    }\n",
       "\n",
       "    .dataframe thead th {\n",
       "        text-align: right;\n",
       "    }\n",
       "</style>\n",
       "<table border=\"1\" class=\"dataframe\">\n",
       "  <thead>\n",
       "    <tr style=\"text-align: right;\">\n",
       "      <th></th>\n",
       "      <th>Unnamed: 0</th>\n",
       "      <th>title</th>\n",
       "      <th>text</th>\n",
       "      <th>label</th>\n",
       "    </tr>\n",
       "  </thead>\n",
       "  <tbody>\n",
       "    <tr>\n",
       "      <th>0</th>\n",
       "      <td>8476</td>\n",
       "      <td>You Can Smell Hillary’s Fear</td>\n",
       "      <td>Daniel Greenfield, a Shillman Journalism Fello...</td>\n",
       "      <td>FAKE</td>\n",
       "    </tr>\n",
       "    <tr>\n",
       "      <th>1</th>\n",
       "      <td>10294</td>\n",
       "      <td>Watch The Exact Moment Paul Ryan Committed Pol...</td>\n",
       "      <td>Google Pinterest Digg Linkedin Reddit Stumbleu...</td>\n",
       "      <td>FAKE</td>\n",
       "    </tr>\n",
       "    <tr>\n",
       "      <th>2</th>\n",
       "      <td>3608</td>\n",
       "      <td>Kerry to go to Paris in gesture of sympathy</td>\n",
       "      <td>U.S. Secretary of State John F. Kerry said Mon...</td>\n",
       "      <td>REAL</td>\n",
       "    </tr>\n",
       "    <tr>\n",
       "      <th>3</th>\n",
       "      <td>10142</td>\n",
       "      <td>Bernie supporters on Twitter erupt in anger ag...</td>\n",
       "      <td>— Kaydee King (@KaydeeKing) November 9, 2016 T...</td>\n",
       "      <td>FAKE</td>\n",
       "    </tr>\n",
       "    <tr>\n",
       "      <th>4</th>\n",
       "      <td>875</td>\n",
       "      <td>The Battle of New York: Why This Primary Matters</td>\n",
       "      <td>It's primary day in New York and front-runners...</td>\n",
       "      <td>REAL</td>\n",
       "    </tr>\n",
       "  </tbody>\n",
       "</table>\n",
       "</div>"
      ],
      "text/plain": [
       "   Unnamed: 0                                              title  \\\n",
       "0        8476                       You Can Smell Hillary’s Fear   \n",
       "1       10294  Watch The Exact Moment Paul Ryan Committed Pol...   \n",
       "2        3608        Kerry to go to Paris in gesture of sympathy   \n",
       "3       10142  Bernie supporters on Twitter erupt in anger ag...   \n",
       "4         875   The Battle of New York: Why This Primary Matters   \n",
       "\n",
       "                                                text label  \n",
       "0  Daniel Greenfield, a Shillman Journalism Fello...  FAKE  \n",
       "1  Google Pinterest Digg Linkedin Reddit Stumbleu...  FAKE  \n",
       "2  U.S. Secretary of State John F. Kerry said Mon...  REAL  \n",
       "3  — Kaydee King (@KaydeeKing) November 9, 2016 T...  FAKE  \n",
       "4  It's primary day in New York and front-runners...  REAL  "
      ]
     },
     "execution_count": 3,
     "metadata": {},
     "output_type": "execute_result"
    }
   ],
   "source": [
    "df.head()"
   ]
  },
  {
   "cell_type": "code",
   "execution_count": 4,
   "metadata": {},
   "outputs": [
    {
     "data": {
      "text/plain": [
       "(6335, 4)"
      ]
     },
     "execution_count": 4,
     "metadata": {},
     "output_type": "execute_result"
    }
   ],
   "source": [
    "df.shape"
   ]
  },
  {
   "cell_type": "code",
   "execution_count": 5,
   "metadata": {
    "scrolled": true
   },
   "outputs": [
    {
     "data": {
      "text/plain": [
       "<matplotlib.axes._subplots.AxesSubplot at 0x1bde2d67808>"
      ]
     },
     "execution_count": 5,
     "metadata": {},
     "output_type": "execute_result"
    },
    {
     "data": {
      "image/png": "[encoded data removed]",
      "text/plain": [
       "<Figure size 432x288 with 1 Axes>"
      ]
     },
     "metadata": {
      "needs_background": "light"
     },
     "output_type": "display_data"
    }
   ],
   "source": [
    "sns.countplot(x=\"label\", data=df)#plot to check the no.of Fake and real news count"
   ]
  },
  {
   "cell_type": "markdown",
   "metadata": {},
   "source": [
    "Import train, test, split and preprocessing modules: "
   ]
  },
  {
   "cell_type": "code",
   "execution_count": 6,
   "metadata": {},
   "outputs": [],
   "source": [
    "from sklearn.model_selection import train_test_split\n",
    "from sklearn.feature_extraction.text import TfidfVectorizer"
   ]
  },
  {
   "cell_type": "code",
   "execution_count": 7,
   "metadata": {},
   "outputs": [],
   "source": [
    "y=df.label\n",
    "x=df.text"
   ]
  },
  {
   "cell_type": "code",
   "execution_count": 8,
   "metadata": {},
   "outputs": [
    {
     "data": {
      "text/plain": [
       "0    Daniel Greenfield, a Shillman Journalism Fello...\n",
       "1    Google Pinterest Digg Linkedin Reddit Stumbleu...\n",
       "2    U.S. Secretary of State John F. Kerry said Mon...\n",
       "3    — Kaydee King (@KaydeeKing) November 9, 2016 T...\n",
       "4    It's primary day in New York and front-runners...\n",
       "Name: text, dtype: object"
      ]
     },
     "execution_count": 8,
     "metadata": {},
     "output_type": "execute_result"
    }
   ],
   "source": [
    "x.head()"
   ]
  },
  {
   "cell_type": "code",
   "execution_count": 9,
   "metadata": {},
   "outputs": [
    {
     "data": {
      "text/plain": [
       "0    FAKE\n",
       "1    FAKE\n",
       "2    REAL\n",
       "3    FAKE\n",
       "4    REAL\n",
       "Name: label, dtype: object"
      ]
     },
     "execution_count": 9,
     "metadata": {},
     "output_type": "execute_result"
    }
   ],
   "source": [
    "y.head()"
   ]
  },
  {
   "cell_type": "code",
   "execution_count": 10,
   "metadata": {},
   "outputs": [
    {
     "data": {
      "text/plain": [
       "(6335,)"
      ]
     },
     "execution_count": 10,
     "metadata": {},
     "output_type": "execute_result"
    }
   ],
   "source": [
    "y.shape"
   ]
  },
  {
   "cell_type": "code",
   "execution_count": 11,
   "metadata": {},
   "outputs": [],
   "source": [
    "x_train, x_test, y_train, y_test=train_test_split(x, y, test_size=0.3, random_state=101)"
   ]
  },
  {
   "cell_type": "code",
   "execution_count": 12,
   "metadata": {},
   "outputs": [],
   "source": [
    "tfidf_vectorizer=TfidfVectorizer(stop_words='english', max_df=0.7)"
   ]
  },
  {
   "cell_type": "code",
   "execution_count": 13,
   "metadata": {},
   "outputs": [],
   "source": [
    "tf_train=tfidf_vectorizer.fit_transform(x_train) \n",
    "tf_test=tfidf_vectorizer.transform(x_test)"
   ]
  },
  {
   "cell_type": "code",
   "execution_count": 14,
   "metadata": {},
   "outputs": [
    {
     "data": {
      "text/plain": [
       "(4434, 57938)"
      ]
     },
     "execution_count": 14,
     "metadata": {},
     "output_type": "execute_result"
    }
   ],
   "source": [
    "tf_train.shape"
   ]
  },
  {
   "cell_type": "code",
   "execution_count": 15,
   "metadata": {},
   "outputs": [
    {
     "data": {
      "text/plain": [
       "(1901, 57938)"
      ]
     },
     "execution_count": 15,
     "metadata": {},
     "output_type": "execute_result"
    }
   ],
   "source": [
    "tf_test.shape"
   ]
  },
  {
   "cell_type": "markdown",
   "metadata": {},
   "source": [
    "PassiveAggressiveClassifier for analyzing the data:"
   ]
  },
  {
   "cell_type": "code",
   "execution_count": 16,
   "metadata": {},
   "outputs": [],
   "source": [
    "from sklearn.linear_model import PassiveAggressiveClassifier\n",
    "from sklearn.metrics import accuracy_score, confusion_matrix"
   ]
  },
  {
   "cell_type": "code",
   "execution_count": 17,
   "metadata": {},
   "outputs": [
    {
     "data": {
      "text/plain": [
       "PassiveAggressiveClassifier(C=1.0, average=False, class_weight=None,\n",
       "                            early_stopping=False, fit_intercept=True,\n",
       "                            loss='hinge', max_iter=50, n_iter_no_change=5,\n",
       "                            n_jobs=None, random_state=None, shuffle=True,\n",
       "                            tol=0.001, validation_fraction=0.1, verbose=0,\n",
       "                            warm_start=False)"
      ]
     },
     "execution_count": 17,
     "metadata": {},
     "output_type": "execute_result"
    }
   ],
   "source": [
    "pac=PassiveAggressiveClassifier(max_iter=50)\n",
    "pac.fit(tf_train,y_train)"
   ]
  },
  {
   "cell_type": "code",
   "execution_count": 18,
   "metadata": {},
   "outputs": [
    {
     "name": "stdout",
     "output_type": "stream",
     "text": [
      "Accuracy: 93.69%\n"
     ]
    }
   ],
   "source": [
    "y_pred=pac.predict(tf_test)\n",
    "score=accuracy_score(y_test,y_pred)\n",
    "print(\"Accuracy: {}%\".format(round(score*100,2)))"
   ]
  },
  {
   "cell_type": "code",
   "execution_count": 19,
   "metadata": {},
   "outputs": [
    {
     "data": {
      "text/plain": [
       "array([[896,  47],\n",
       "       [ 73, 885]], dtype=int64)"
      ]
     },
     "execution_count": 19,
     "metadata": {},
     "output_type": "execute_result"
    }
   ],
   "source": [
    "confusion_matrix(y_test,y_pred, labels=['FAKE','REAL'])"
   ]
  },
  {
   "cell_type": "markdown",
   "metadata": {},
   "source": [
    "# Code to scrap data from inshorts:"
   ]
  },
  {
   "cell_type": "code",
   "execution_count": 20,
   "metadata": {},
   "outputs": [
    {
     "name": "stdout",
     "output_type": "stream",
     "text": [
      "[['Title', 'Text'], [\"He would wish he was born in India: Chinmayi on Harvey's 23 yrs jail sentence\", 'After American producer Harvey Weinstein was sentenced to 23 years in prison, singer Chinmayi Sripaada tweeted, \"He\\'d wish he [was] born in India. Especially in Tamil Nadu.\" \"He\\'d have been partying with stars, politicians...[would] actually be supported by political parties 100%,\" she added. Harvey was found guilty of raping a woman and forcing oral sex on a production assistant.'], [\"Don't call coronavirus a hype on social media, don't be overconfident: Parineeti\", 'Parineeti Chopra has shared a post on coronavirus written by a woman in Italy, who wrote \"the only way to stop it is to limit contagion\". \"Guys stop being overconfident and read this! Stop calling it a \\'hype on social media\\'. Stop saying \\'it only affects the elderly\\',\" wrote Parineeti. \"Coronavirus is...extremely contagious and unstoppable. Please be smart,\" she added.'], [\"India's biggest stockbroker Zerodha makes work from home must for all 1,200 staff\", 'Bengaluru-based Zerodha, India\\'s biggest stockbroker, has mandated all its 1,200 employees to work from home as coronavirus cases in India rose to 73.  The decision has been taken for the \"safety of our employees, and to reduce the chance of any virus spreading due to working in large groups at our offices,\" Founder and CEO Nithin Kamath said.'], [\"Coronavirus is a 'controllable pandemic': WHO\", 'The new coronavirus \"is a controllable pandemic\" if countries increase measures to tackle it, the World Health Organization (WHO) has said. \"We are deeply concerned that some countries are not approaching this threat with the level of political commitment needed to control it,\" WHO Director-General Tedros Adhanom Ghebreyesus said. Over 1.2 lakh coronavirus cases have been reported worldwide.'], ['Travel bans ineffective in battle against coronavirus, says Asian airline group', 'The Association of Asia Pacific Airlines has urged governments to roll back or refrain from using travel restrictions to fight coronavirus. \"In most of the countries, the spread is now mainly through local transmission rather than from imported cases,\" the airline group said. It noted that WHO repeatedly advised against travel or trade restrictions as such measures are generally ineffective.'], ['All 22 MLAs are with Scindia on their own, say 6 Congress MLAs', \"Six Madhya Pradesh ministers, who resigned from the Congress along with 16 other MLAs, have said they are with Jyotiraditya Scindia out of their own wish and not under duress. They said so in separate videos after Scindia joined the BJP. Madhya Pradesh CM Kamal Nath's government said that the ministers had complained about being forced to resign by Scindia.\"], [\"Scindia left as he got worried about future, won't get respect in BJP: Rahul\", 'Congress leader Rahul Gandhi on Thursday said that Jyotiraditya Scindia got worried about his political future and quit Congress but he will not get respect in the BJP. He added, \"I know Jyotiraditya Scindia\\'s ideology. He was with me in college, I know him well. He got worried about his political future, abandoned his ideology and went with the RSS.\"'], ['MP Assembly Speaker asks rebel Cong MLAs to appear before him by tomorrow', 'Madhya Pradesh Assembly Speaker NP Prajapati has issued notices to the 22 Congress MLAs who have resigned from the party to appear before him by Friday. They are asked to clarify if they have quit Congress voluntarily or under some pressure. Meanwhile, BJP said that it will seek a floor test on March 16 when the state budget session begins.'], ['Police were helping those indulging in violence: Kapil Sibal on Delhi riots', 'Congress leader Kapil Sibal on Thursday said in the Rajya Sabha that it is clear that the police were helping those who were indulging in violence in Northeast Delhi. Sibal said that its result was the death of innocent people who had nothing to do with the riots. He added the government is doing surgical strike on its own people.'], ['Noida firm director shoots 2 officials at board meeting, later kills self', 'Pradeep Agarwal, a director in UP Telelinks Limited, shot two senior officials of the company, Naresh Gupta and Rajesh Jain, during a board meeting, Deputy Commissioner of Police (Central Noida) Harish Chander said. Gupta succumbed to gunshot wounds, while Agarwal later killed himself, police added. The incident happened in Badalpur area, about 60 kilometres from Delhi.'], ['₹11.4 lakh crore wiped off in 1 day as Sensex records biggest fall in 11 years ', 'The combined market value of all BSE-listed companies fell by ₹11.4 lakh crore on Thursday after the Sensex plunged 8.18%, its worst single-day loss since October 2008. Indian stock market has entered into bear territory after the coronavirus outbreak was described as a pandemic. Oil-to-retail conglomerate Reliance Industries plunged 8% to its lowest close in more than 16 months.'], [\"Kapil shares his pic in mask amid coronavirus, says 'say no to handshake'\", 'Comedian Kapil Sharma took to Instagram to share pictures of himself in a mask and wrote, \"Saavdhani mein hi suraksha hai (caution is safety) #saynotohandshake.\" In one of the pictures, Kapil can be seen seating by window and folding his hands. This comes amid coronavirus outbreak which has killed more than 4,700 and infected around 1,27,833 people globally. '], ['War was one of the biggest blockbusters in history of Hindi cinema: Vaani', 'Actress Vaani Kapoor has said her 2019 film \\'War\\', which also featured Hrithik Roshan and Tiger Shroff, was one of the biggest blockbusters in the history of Hindi cinema. She added, \"I had a blessed 2019 with \\'War\\'...I\\'m glad people really appreciated how I played my character and I\\'m thankful for all the wishes and compliments.\"'], ['Shweta burned hands while shooting for a scene in Mere Dad Ki Dulhan: Co-actor', 'Actor Fahmaan Khan, who features alongside Shweta Tiwari in series \\'Mere Dad Ki Dulhan\\', has revealed that the actress burned her hands while shooting for a scene. The actors were recreating a scene from \\'Jab We Met\\' when a curtain caught fire and Shweta \"partially burned her hands\" while trying to cease it. \"Everyone thought she is improvising,\" Fahmaan added. '], ['I was harassed when I started, wanted to leave the industry: Writer Kanika', 'Kanika Dhillon, known for writing Taapsee Pannu-starrer \\'Manmarziyaan\\', said she wanted to leave the industry when she started out. Kanika added she was \"harassed\", \"propositioned\" and was made to feel that she\\'s being kept around because she was \"easy on the eyes\". \"Since I\\'ve been made to feel...unworthy because of my sex...today, I want to charge...maximum...I can,\" she said.'], ['Rupee crashes to near record low of 74.22 against the US dollar', 'The rupee was down by 57 paise to 17-month low of 74.22 against US dollar on Thursday amid global market sell-off due to coronavirus. On Thursday, the combined market value of all BSE-listed companies fell by ₹11.4 lakh crore after the Sensex plunged 8.18%, its worst single-day loss since October 2008. This comes following WHO announcing coronavirus as a pandemic.'], ['Spanish minister tests positive for coronavirus, Dy PM in quarantine', \"Spain's Equality Minister Irene Montero tweeted that she has tested positive for the new coronavirus and has been quarantined at home. Her partner and Spain's Deputy PM Pablo Iglesias tweeted that he's also in quarantine at home and is awaiting his coronavirus test result. A government statement said that all members of the government will be tested for the virus.\"], ['Philippine President Duterte to undergo coronavirus test', 'As part of precautionary measures Philippine President Rodrigo Duterte will undergo a coronavirus test, his spokesperson said on Thursday. The 74-year-old leader, who has been in regular contact with officials who are self-isolating themselves as a precaution, is in the age group that is vulnerable to the virus. The Philippines has reported 49 cases of the new coronavirus.'], ['Gender equality progress threatened by online harm women face: WWW creator', 'Talking about online abuse of women, Tim Berners-Lee, creator of World Wide Web, said that \"online harms\" faced by women and girls threatened the \"progress on gender equality\". He added, online abuse \"forces women out of jobs\" and \"damages relationships\". \"Relentless harassment silences women...with female journalists and politicians pushed off social media and bullied out of office,\" Lee said.'], ['Never aspired to become Tamil Nadu CM; only want change: Rajini', 'Actor Rajinikanth has said that he \"never aspired\" to become the chief minister of Tamil Nadu but only wants change in politics. He added that in case his party, which is yet to be launched, comes to power, the party\\'s leader will be different from the chief minister. The CM would be an \"educated and compassionate youngster\", Rajinikanth said.']]\n"
     ]
    }
   ],
   "source": [
    "from urllib.request import urlopen as req\n",
    "from bs4 import BeautifulSoup as soup\n",
    "import csv\n",
    "my_url=\"https://inshorts.com/en/read\"\n",
    "\n",
    "uclient = req(my_url)\n",
    "page_html = uclient.read()\n",
    "uclient.close()\n",
    "page_soup = soup(page_html, \"html.parser\")\n",
    "containers = page_soup.findAll(\"div\", {\"class\" : \"card-stack\"})\n",
    "\n",
    "filename = \"news_scrap.csv\"\n",
    "f = open(filename, \"w\", encoding=\"utf-8\")\n",
    "\n",
    "#headers = \"title,text\\n\"\n",
    "#f.write(headers)\n",
    "\n",
    "row_list = [\n",
    "    [\"Title\", \"Text\"],]\n",
    "\n",
    "for container in containers:\n",
    "    for i in range(20):\n",
    "    \n",
    "        title_container = container.find_all(\"span\", {\"itemprop\": \"headline\"})\n",
    "        title = title_container[i].text\n",
    "\n",
    "        article_container = container.find_all(\"div\", {\"itemprop\": \"articleBody\"})\n",
    "        article = article_container[i].text\n",
    "        row_list.append([title, article])\n",
    "\n",
    "print(row_list)\n",
    "f.close()\n",
    "\n",
    "with open('inshorts.csv', 'w', newline='',encoding='utf-8') as file:\n",
    "    writer = csv.writer(file, quoting=csv.QUOTE_NONNUMERIC)\n",
    "    writer.writerows(row_list)\n"
   ]
  },
  {
   "cell_type": "markdown",
   "metadata": {},
   "source": [
    "Load the data to be predicted:"
   ]
  },
  {
   "cell_type": "code",
   "execution_count": 21,
   "metadata": {},
   "outputs": [],
   "source": [
    "pred_data=pd.read_csv(\"inshorts.csv\")"
   ]
  },
  {
   "cell_type": "code",
   "execution_count": 22,
   "metadata": {},
   "outputs": [],
   "source": [
    "pred_text=pred_data.Text\n",
    "pred_title=pred_data.Title"
   ]
  },
  {
   "cell_type": "code",
   "execution_count": 23,
   "metadata": {},
   "outputs": [],
   "source": [
    "pred_text_tranf=tfidf_vectorizer.transform(pred_text) "
   ]
  },
  {
   "cell_type": "code",
   "execution_count": 25,
   "metadata": {},
   "outputs": [
    {
     "data": {
      "text/plain": [
       "(20, 57938)"
      ]
     },
     "execution_count": 25,
     "metadata": {},
     "output_type": "execute_result"
    }
   ],
   "source": [
    "pred_text_tranf.shape"
   ]
  },
  {
   "cell_type": "markdown",
   "metadata": {},
   "source": [
    "# Predicted data after analyzing:"
   ]
  },
  {
   "cell_type": "code",
   "execution_count": 26,
   "metadata": {},
   "outputs": [
    {
     "name": "stdout",
     "output_type": "stream",
     "text": [
      "(\"He would wish he was born in India: Chinmayi on Harvey's 23 yrs jail sentence\", 'FAKE')\n",
      "(\"Don't call coronavirus a hype on social media, don't be overconfident: Parineeti\", 'FAKE')\n",
      "(\"India's biggest stockbroker Zerodha makes work from home must for all 1,200 staff\", 'REAL')\n",
      "(\"Coronavirus is a 'controllable pandemic': WHO\", 'REAL')\n",
      "('Travel bans ineffective in battle against coronavirus, says Asian airline group', 'REAL')\n",
      "('All 22 MLAs are with Scindia on their own, say 6 Congress MLAs', 'REAL')\n",
      "(\"Scindia left as he got worried about future, won't get respect in BJP: Rahul\", 'FAKE')\n",
      "('MP Assembly Speaker asks rebel Cong MLAs to appear before him by tomorrow', 'REAL')\n",
      "('Police were helping those indulging in violence: Kapil Sibal on Delhi riots', 'REAL')\n",
      "('Noida firm director shoots 2 officials at board meeting, later kills self', 'FAKE')\n",
      "('₹11.4 lakh crore wiped off in 1 day as Sensex records biggest fall in 11 years ', 'FAKE')\n",
      "(\"Kapil shares his pic in mask amid coronavirus, says 'say no to handshake'\", 'FAKE')\n",
      "('War was one of the biggest blockbusters in history of Hindi cinema: Vaani', 'FAKE')\n",
      "('Shweta burned hands while shooting for a scene in Mere Dad Ki Dulhan: Co-actor', 'FAKE')\n",
      "('I was harassed when I started, wanted to leave the industry: Writer Kanika', 'FAKE')\n",
      "('Rupee crashes to near record low of 74.22 against the US dollar', 'FAKE')\n",
      "('Spanish minister tests positive for coronavirus, Dy PM in quarantine', 'FAKE')\n",
      "('Philippine President Duterte to undergo coronavirus test', 'REAL')\n",
      "('Gender equality progress threatened by online harm women face: WWW creator', 'REAL')\n",
      "('Never aspired to become Tamil Nadu CM; only want change: Rajini', 'FAKE')\n"
     ]
    }
   ],
   "source": [
    "y_pred=pac.predict(pred_text_tranf)\n",
    "\n",
    "for i in zip(pred_title,y_pred):\n",
    "    print(i)"
   ]
  }
 ],
 "metadata": {
  "kernelspec": {
   "display_name": "Python 3",
   "language": "python",
   "name": "python3"
  },
  "language_info": {
   "codemirror_mode": {
    "name": "ipython",
    "version": 3
   },
   "file_extension": ".py",
   "mimetype": "text/x-python",
   "name": "python",
   "nbconvert_exporter": "python",
   "pygments_lexer": "ipython3",
   "version": "3.7.6"
  }
 },
 "nbformat": 4,
 "nbformat_minor": 2
}
